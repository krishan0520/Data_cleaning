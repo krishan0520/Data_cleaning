{
  "nbformat": 4,
  "nbformat_minor": 0,
  "metadata": {
    "colab": {
      "provenance": [],
      "gpuType": "T4"
    },
    "kernelspec": {
      "name": "python3",
      "display_name": "Python 3"
    },
    "language_info": {
      "name": "python"
    },
    "accelerator": "GPU"
  },
  "cells": [
    {
      "cell_type": "markdown",
      "source": [
        "##Load Libries\n"
      ],
      "metadata": {
        "id": "GmQ9aRHHVQR3"
      }
    },
    {
      "cell_type": "code",
      "source": [
        "import numpy as np\n",
        "import pandas as pd \n",
        "import matplotlib.pyplot as plt\n",
        "import os\n",
        "from pathlib import Path\n",
        "import urllib.request\n",
        "import re"
      ],
      "metadata": {
        "id": "lCHHT22bHH4s"
      },
      "execution_count": 114,
      "outputs": []
    },
    {
      "cell_type": "markdown",
      "source": [
        "##Load data"
      ],
      "metadata": {
        "id": "0_eFZ-rHVduy"
      }
    },
    {
      "cell_type": "code",
      "source": [
        "def load_csv():\n",
        "  csv_path=Path('dataset/fifa21_raw_data.csv')\n",
        "  if not csv_path.is_file():\n",
        "    Path('dataset').mkdir(parents=True,exist_ok=True)\n",
        "    url = 'https://github.com/krishan0520/Data_cleaning/raw/master/fifa21_raw_data.csv'\n",
        "    urllib.request.urlretrieve(url,csv_path)\n",
        "    return pd.read_csv(csv_path,low_memory=True)\n",
        "fifa_df = load_csv()"
      ],
      "metadata": {
        "id": "tcwlYzkqO3EY",
        "colab": {
          "base_uri": "https://localhost:8080/"
        },
        "outputId": "96dd6733-2435-4499-9c21-b8452538bd68"
      },
      "execution_count": 115,
      "outputs": [
        {
          "output_type": "stream",
          "name": "stderr",
          "text": [
            "<ipython-input-115-5291d00ef99c>:7: DtypeWarning: Columns (76) have mixed types. Specify dtype option on import or set low_memory=False.\n",
            "  return pd.read_csv(csv_path,low_memory=True)\n"
          ]
        }
      ]
    },
    {
      "cell_type": "code",
      "source": [
        "#Details of columns\n",
        "fifa_df.info()"
      ],
      "metadata": {
        "colab": {
          "base_uri": "https://localhost:8080/"
        },
        "id": "axIVlM3LR7Fg",
        "outputId": "3f05ce31-9fac-4a29-d48b-2c3700f44ad6"
      },
      "execution_count": 116,
      "outputs": [
        {
          "output_type": "stream",
          "name": "stdout",
          "text": [
            "<class 'pandas.core.frame.DataFrame'>\n",
            "RangeIndex: 18979 entries, 0 to 18978\n",
            "Data columns (total 77 columns):\n",
            " #   Column            Non-Null Count  Dtype \n",
            "---  ------            --------------  ----- \n",
            " 0   photoUrl          18979 non-null  object\n",
            " 1   LongName          18979 non-null  object\n",
            " 2   playerUrl         18979 non-null  object\n",
            " 3   Nationality       18979 non-null  object\n",
            " 4   Positions         18979 non-null  object\n",
            " 5   Name              18979 non-null  object\n",
            " 6   Age               18979 non-null  int64 \n",
            " 7   ↓OVA              18979 non-null  int64 \n",
            " 8   POT               18979 non-null  int64 \n",
            " 9   Team & Contract   18979 non-null  object\n",
            " 10  ID                18979 non-null  int64 \n",
            " 11  Height            18979 non-null  object\n",
            " 12  Weight            18979 non-null  object\n",
            " 13  foot              18979 non-null  object\n",
            " 14  BOV               18979 non-null  int64 \n",
            " 15  BP                18979 non-null  object\n",
            " 16  Growth            18979 non-null  int64 \n",
            " 17  Joined            18979 non-null  object\n",
            " 18  Loan Date End     1013 non-null   object\n",
            " 19  Value             18979 non-null  object\n",
            " 20  Wage              18979 non-null  object\n",
            " 21  Release Clause    18979 non-null  object\n",
            " 22  Attacking         18979 non-null  int64 \n",
            " 23  Crossing          18979 non-null  int64 \n",
            " 24  Finishing         18979 non-null  int64 \n",
            " 25  Heading Accuracy  18979 non-null  int64 \n",
            " 26  Short Passing     18979 non-null  int64 \n",
            " 27  Volleys           18979 non-null  int64 \n",
            " 28  Skill             18979 non-null  int64 \n",
            " 29  Dribbling         18979 non-null  int64 \n",
            " 30  Curve             18979 non-null  int64 \n",
            " 31  FK Accuracy       18979 non-null  int64 \n",
            " 32  Long Passing      18979 non-null  int64 \n",
            " 33  Ball Control      18979 non-null  int64 \n",
            " 34  Movement          18979 non-null  int64 \n",
            " 35  Acceleration      18979 non-null  int64 \n",
            " 36  Sprint Speed      18979 non-null  int64 \n",
            " 37  Agility           18979 non-null  int64 \n",
            " 38  Reactions         18979 non-null  int64 \n",
            " 39  Balance           18979 non-null  int64 \n",
            " 40  Power             18979 non-null  int64 \n",
            " 41  Shot Power        18979 non-null  int64 \n",
            " 42  Jumping           18979 non-null  int64 \n",
            " 43  Stamina           18979 non-null  int64 \n",
            " 44  Strength          18979 non-null  int64 \n",
            " 45  Long Shots        18979 non-null  int64 \n",
            " 46  Mentality         18979 non-null  int64 \n",
            " 47  Aggression        18979 non-null  int64 \n",
            " 48  Interceptions     18979 non-null  int64 \n",
            " 49  Positioning       18979 non-null  int64 \n",
            " 50  Vision            18979 non-null  int64 \n",
            " 51  Penalties         18979 non-null  int64 \n",
            " 52  Composure         18979 non-null  int64 \n",
            " 53  Defending         18979 non-null  int64 \n",
            " 54  Marking           18979 non-null  int64 \n",
            " 55  Standing Tackle   18979 non-null  int64 \n",
            " 56  Sliding Tackle    18979 non-null  int64 \n",
            " 57  Goalkeeping       18979 non-null  int64 \n",
            " 58  GK Diving         18979 non-null  int64 \n",
            " 59  GK Handling       18979 non-null  int64 \n",
            " 60  GK Kicking        18979 non-null  int64 \n",
            " 61  GK Positioning    18979 non-null  int64 \n",
            " 62  GK Reflexes       18979 non-null  int64 \n",
            " 63  Total Stats       18979 non-null  int64 \n",
            " 64  Base Stats        18979 non-null  int64 \n",
            " 65  W/F               18979 non-null  object\n",
            " 66  SM                18979 non-null  object\n",
            " 67  A/W               18979 non-null  object\n",
            " 68  D/W               18979 non-null  object\n",
            " 69  IR                18979 non-null  object\n",
            " 70  PAC               18979 non-null  int64 \n",
            " 71  SHO               18979 non-null  int64 \n",
            " 72  PAS               18979 non-null  int64 \n",
            " 73  DRI               18979 non-null  int64 \n",
            " 74  DEF               18979 non-null  int64 \n",
            " 75  PHY               18979 non-null  int64 \n",
            " 76  Hits              18979 non-null  object\n",
            "dtypes: int64(55), object(22)\n",
            "memory usage: 11.1+ MB\n"
          ]
        }
      ]
    },
    {
      "cell_type": "code",
      "source": [
        "fifa_df.head()"
      ],
      "metadata": {
        "colab": {
          "base_uri": "https://localhost:8080/",
          "height": 508
        },
        "id": "8DF7znatVE2Z",
        "outputId": "1505d2f2-144d-4fc9-90d1-19a2a7c879c0"
      },
      "execution_count": 117,
      "outputs": [
        {
          "output_type": "execute_result",
          "data": {
            "text/plain": [
              "                                           photoUrl  \\\n",
              "0  https://cdn.sofifa.com/players/158/023/21_60.png   \n",
              "1  https://cdn.sofifa.com/players/020/801/21_60.png   \n",
              "2  https://cdn.sofifa.com/players/200/389/21_60.png   \n",
              "3  https://cdn.sofifa.com/players/192/985/21_60.png   \n",
              "4  https://cdn.sofifa.com/players/190/871/21_60.png   \n",
              "\n",
              "                       LongName  \\\n",
              "0                  Lionel Messi   \n",
              "1  C. Ronaldo dos Santos Aveiro   \n",
              "2                     Jan Oblak   \n",
              "3               Kevin De Bruyne   \n",
              "4    Neymar da Silva Santos Jr.   \n",
              "\n",
              "                                           playerUrl Nationality Positions  \\\n",
              "0  http://sofifa.com/player/158023/lionel-messi/2...   Argentina  RW ST CF   \n",
              "1  http://sofifa.com/player/20801/c-ronaldo-dos-s...    Portugal     ST LW   \n",
              "2  http://sofifa.com/player/200389/jan-oblak/210005/    Slovenia        GK   \n",
              "3  http://sofifa.com/player/192985/kevin-de-bruyn...     Belgium    CAM CM   \n",
              "4  http://sofifa.com/player/190871/neymar-da-silv...      Brazil    LW CAM   \n",
              "\n",
              "                Name  Age  ↓OVA  POT  \\\n",
              "0           L. Messi   33    93   93   \n",
              "1  Cristiano Ronaldo   35    92   92   \n",
              "2           J. Oblak   27    91   93   \n",
              "3       K. De Bruyne   29    91   91   \n",
              "4          Neymar Jr   28    91   91   \n",
              "\n",
              "                                Team & Contract  ...     A/W     D/W   IR PAC  \\\n",
              "0         \\n\\n\\n\\nFC Barcelona\\n2004 ~ 2021\\n\\n  ...  Medium     Low  5 ★  85   \n",
              "1             \\n\\n\\n\\nJuventus\\n2018 ~ 2022\\n\\n  ...    High     Low  5 ★  89   \n",
              "2      \\n\\n\\n\\nAtlético Madrid\\n2014 ~ 2023\\n\\n  ...  Medium  Medium  3 ★  87   \n",
              "3      \\n\\n\\n\\nManchester City\\n2015 ~ 2023\\n\\n  ...    High    High  4 ★  76   \n",
              "4  \\n\\n\\n\\nParis Saint-Germain\\n2017 ~ 2022\\n\\n  ...    High  Medium  5 ★  91   \n",
              "\n",
              "   SHO PAS  DRI DEF PHY   Hits  \n",
              "0   92  91   95  38  65  \\n372  \n",
              "1   93  81   89  35  77  \\n344  \n",
              "2   92  78   90  52  90   \\n86  \n",
              "3   86  93   88  64  78  \\n163  \n",
              "4   85  86   94  36  59  \\n273  \n",
              "\n",
              "[5 rows x 77 columns]"
            ],
            "text/html": [
              "\n",
              "  <div id=\"df-5ccb80ef-4d7e-4072-a81b-49d5fb51dd63\">\n",
              "    <div class=\"colab-df-container\">\n",
              "      <div>\n",
              "<style scoped>\n",
              "    .dataframe tbody tr th:only-of-type {\n",
              "        vertical-align: middle;\n",
              "    }\n",
              "\n",
              "    .dataframe tbody tr th {\n",
              "        vertical-align: top;\n",
              "    }\n",
              "\n",
              "    .dataframe thead th {\n",
              "        text-align: right;\n",
              "    }\n",
              "</style>\n",
              "<table border=\"1\" class=\"dataframe\">\n",
              "  <thead>\n",
              "    <tr style=\"text-align: right;\">\n",
              "      <th></th>\n",
              "      <th>photoUrl</th>\n",
              "      <th>LongName</th>\n",
              "      <th>playerUrl</th>\n",
              "      <th>Nationality</th>\n",
              "      <th>Positions</th>\n",
              "      <th>Name</th>\n",
              "      <th>Age</th>\n",
              "      <th>↓OVA</th>\n",
              "      <th>POT</th>\n",
              "      <th>Team &amp; Contract</th>\n",
              "      <th>...</th>\n",
              "      <th>A/W</th>\n",
              "      <th>D/W</th>\n",
              "      <th>IR</th>\n",
              "      <th>PAC</th>\n",
              "      <th>SHO</th>\n",
              "      <th>PAS</th>\n",
              "      <th>DRI</th>\n",
              "      <th>DEF</th>\n",
              "      <th>PHY</th>\n",
              "      <th>Hits</th>\n",
              "    </tr>\n",
              "  </thead>\n",
              "  <tbody>\n",
              "    <tr>\n",
              "      <th>0</th>\n",
              "      <td>https://cdn.sofifa.com/players/158/023/21_60.png</td>\n",
              "      <td>Lionel Messi</td>\n",
              "      <td>http://sofifa.com/player/158023/lionel-messi/2...</td>\n",
              "      <td>Argentina</td>\n",
              "      <td>RW ST CF</td>\n",
              "      <td>L. Messi</td>\n",
              "      <td>33</td>\n",
              "      <td>93</td>\n",
              "      <td>93</td>\n",
              "      <td>\\n\\n\\n\\nFC Barcelona\\n2004 ~ 2021\\n\\n</td>\n",
              "      <td>...</td>\n",
              "      <td>Medium</td>\n",
              "      <td>Low</td>\n",
              "      <td>5 ★</td>\n",
              "      <td>85</td>\n",
              "      <td>92</td>\n",
              "      <td>91</td>\n",
              "      <td>95</td>\n",
              "      <td>38</td>\n",
              "      <td>65</td>\n",
              "      <td>\\n372</td>\n",
              "    </tr>\n",
              "    <tr>\n",
              "      <th>1</th>\n",
              "      <td>https://cdn.sofifa.com/players/020/801/21_60.png</td>\n",
              "      <td>C. Ronaldo dos Santos Aveiro</td>\n",
              "      <td>http://sofifa.com/player/20801/c-ronaldo-dos-s...</td>\n",
              "      <td>Portugal</td>\n",
              "      <td>ST LW</td>\n",
              "      <td>Cristiano Ronaldo</td>\n",
              "      <td>35</td>\n",
              "      <td>92</td>\n",
              "      <td>92</td>\n",
              "      <td>\\n\\n\\n\\nJuventus\\n2018 ~ 2022\\n\\n</td>\n",
              "      <td>...</td>\n",
              "      <td>High</td>\n",
              "      <td>Low</td>\n",
              "      <td>5 ★</td>\n",
              "      <td>89</td>\n",
              "      <td>93</td>\n",
              "      <td>81</td>\n",
              "      <td>89</td>\n",
              "      <td>35</td>\n",
              "      <td>77</td>\n",
              "      <td>\\n344</td>\n",
              "    </tr>\n",
              "    <tr>\n",
              "      <th>2</th>\n",
              "      <td>https://cdn.sofifa.com/players/200/389/21_60.png</td>\n",
              "      <td>Jan Oblak</td>\n",
              "      <td>http://sofifa.com/player/200389/jan-oblak/210005/</td>\n",
              "      <td>Slovenia</td>\n",
              "      <td>GK</td>\n",
              "      <td>J. Oblak</td>\n",
              "      <td>27</td>\n",
              "      <td>91</td>\n",
              "      <td>93</td>\n",
              "      <td>\\n\\n\\n\\nAtlético Madrid\\n2014 ~ 2023\\n\\n</td>\n",
              "      <td>...</td>\n",
              "      <td>Medium</td>\n",
              "      <td>Medium</td>\n",
              "      <td>3 ★</td>\n",
              "      <td>87</td>\n",
              "      <td>92</td>\n",
              "      <td>78</td>\n",
              "      <td>90</td>\n",
              "      <td>52</td>\n",
              "      <td>90</td>\n",
              "      <td>\\n86</td>\n",
              "    </tr>\n",
              "    <tr>\n",
              "      <th>3</th>\n",
              "      <td>https://cdn.sofifa.com/players/192/985/21_60.png</td>\n",
              "      <td>Kevin De Bruyne</td>\n",
              "      <td>http://sofifa.com/player/192985/kevin-de-bruyn...</td>\n",
              "      <td>Belgium</td>\n",
              "      <td>CAM CM</td>\n",
              "      <td>K. De Bruyne</td>\n",
              "      <td>29</td>\n",
              "      <td>91</td>\n",
              "      <td>91</td>\n",
              "      <td>\\n\\n\\n\\nManchester City\\n2015 ~ 2023\\n\\n</td>\n",
              "      <td>...</td>\n",
              "      <td>High</td>\n",
              "      <td>High</td>\n",
              "      <td>4 ★</td>\n",
              "      <td>76</td>\n",
              "      <td>86</td>\n",
              "      <td>93</td>\n",
              "      <td>88</td>\n",
              "      <td>64</td>\n",
              "      <td>78</td>\n",
              "      <td>\\n163</td>\n",
              "    </tr>\n",
              "    <tr>\n",
              "      <th>4</th>\n",
              "      <td>https://cdn.sofifa.com/players/190/871/21_60.png</td>\n",
              "      <td>Neymar da Silva Santos Jr.</td>\n",
              "      <td>http://sofifa.com/player/190871/neymar-da-silv...</td>\n",
              "      <td>Brazil</td>\n",
              "      <td>LW CAM</td>\n",
              "      <td>Neymar Jr</td>\n",
              "      <td>28</td>\n",
              "      <td>91</td>\n",
              "      <td>91</td>\n",
              "      <td>\\n\\n\\n\\nParis Saint-Germain\\n2017 ~ 2022\\n\\n</td>\n",
              "      <td>...</td>\n",
              "      <td>High</td>\n",
              "      <td>Medium</td>\n",
              "      <td>5 ★</td>\n",
              "      <td>91</td>\n",
              "      <td>85</td>\n",
              "      <td>86</td>\n",
              "      <td>94</td>\n",
              "      <td>36</td>\n",
              "      <td>59</td>\n",
              "      <td>\\n273</td>\n",
              "    </tr>\n",
              "  </tbody>\n",
              "</table>\n",
              "<p>5 rows × 77 columns</p>\n",
              "</div>\n",
              "      <button class=\"colab-df-convert\" onclick=\"convertToInteractive('df-5ccb80ef-4d7e-4072-a81b-49d5fb51dd63')\"\n",
              "              title=\"Convert this dataframe to an interactive table.\"\n",
              "              style=\"display:none;\">\n",
              "        \n",
              "  <svg xmlns=\"http://www.w3.org/2000/svg\" height=\"24px\"viewBox=\"0 0 24 24\"\n",
              "       width=\"24px\">\n",
              "    <path d=\"M0 0h24v24H0V0z\" fill=\"none\"/>\n",
              "    <path d=\"M18.56 5.44l.94 2.06.94-2.06 2.06-.94-2.06-.94-.94-2.06-.94 2.06-2.06.94zm-11 1L8.5 8.5l.94-2.06 2.06-.94-2.06-.94L8.5 2.5l-.94 2.06-2.06.94zm10 10l.94 2.06.94-2.06 2.06-.94-2.06-.94-.94-2.06-.94 2.06-2.06.94z\"/><path d=\"M17.41 7.96l-1.37-1.37c-.4-.4-.92-.59-1.43-.59-.52 0-1.04.2-1.43.59L10.3 9.45l-7.72 7.72c-.78.78-.78 2.05 0 2.83L4 21.41c.39.39.9.59 1.41.59.51 0 1.02-.2 1.41-.59l7.78-7.78 2.81-2.81c.8-.78.8-2.07 0-2.86zM5.41 20L4 18.59l7.72-7.72 1.47 1.35L5.41 20z\"/>\n",
              "  </svg>\n",
              "      </button>\n",
              "      \n",
              "  <style>\n",
              "    .colab-df-container {\n",
              "      display:flex;\n",
              "      flex-wrap:wrap;\n",
              "      gap: 12px;\n",
              "    }\n",
              "\n",
              "    .colab-df-convert {\n",
              "      background-color: #E8F0FE;\n",
              "      border: none;\n",
              "      border-radius: 50%;\n",
              "      cursor: pointer;\n",
              "      display: none;\n",
              "      fill: #1967D2;\n",
              "      height: 32px;\n",
              "      padding: 0 0 0 0;\n",
              "      width: 32px;\n",
              "    }\n",
              "\n",
              "    .colab-df-convert:hover {\n",
              "      background-color: #E2EBFA;\n",
              "      box-shadow: 0px 1px 2px rgba(60, 64, 67, 0.3), 0px 1px 3px 1px rgba(60, 64, 67, 0.15);\n",
              "      fill: #174EA6;\n",
              "    }\n",
              "\n",
              "    [theme=dark] .colab-df-convert {\n",
              "      background-color: #3B4455;\n",
              "      fill: #D2E3FC;\n",
              "    }\n",
              "\n",
              "    [theme=dark] .colab-df-convert:hover {\n",
              "      background-color: #434B5C;\n",
              "      box-shadow: 0px 1px 3px 1px rgba(0, 0, 0, 0.15);\n",
              "      filter: drop-shadow(0px 1px 2px rgba(0, 0, 0, 0.3));\n",
              "      fill: #FFFFFF;\n",
              "    }\n",
              "  </style>\n",
              "\n",
              "      <script>\n",
              "        const buttonEl =\n",
              "          document.querySelector('#df-5ccb80ef-4d7e-4072-a81b-49d5fb51dd63 button.colab-df-convert');\n",
              "        buttonEl.style.display =\n",
              "          google.colab.kernel.accessAllowed ? 'block' : 'none';\n",
              "\n",
              "        async function convertToInteractive(key) {\n",
              "          const element = document.querySelector('#df-5ccb80ef-4d7e-4072-a81b-49d5fb51dd63');\n",
              "          const dataTable =\n",
              "            await google.colab.kernel.invokeFunction('convertToInteractive',\n",
              "                                                     [key], {});\n",
              "          if (!dataTable) return;\n",
              "\n",
              "          const docLinkHtml = 'Like what you see? Visit the ' +\n",
              "            '<a target=\"_blank\" href=https://colab.research.google.com/notebooks/data_table.ipynb>data table notebook</a>'\n",
              "            + ' to learn more about interactive tables.';\n",
              "          element.innerHTML = '';\n",
              "          dataTable['output_type'] = 'display_data';\n",
              "          await google.colab.output.renderOutput(dataTable, element);\n",
              "          const docLink = document.createElement('div');\n",
              "          docLink.innerHTML = docLinkHtml;\n",
              "          element.appendChild(docLink);\n",
              "        }\n",
              "      </script>\n",
              "    </div>\n",
              "  </div>\n",
              "  "
            ]
          },
          "metadata": {},
          "execution_count": 117
        }
      ]
    },
    {
      "cell_type": "markdown",
      "source": [
        "##Removing unnesseray columns"
      ],
      "metadata": {
        "id": "y0OmZWKwDBLh"
      }
    },
    {
      "cell_type": "code",
      "source": [
        "\n",
        "fifa_df=fifa_df.drop(['photoUrl','LongName','playerUrl'],axis=1)"
      ],
      "metadata": {
        "id": "SVfO1Tu-V11p"
      },
      "execution_count": 118,
      "outputs": []
    },
    {
      "cell_type": "code",
      "source": [
        "#Get all column names\n",
        "\n",
        "fifa_df.columns"
      ],
      "metadata": {
        "colab": {
          "base_uri": "https://localhost:8080/"
        },
        "id": "_WFpoukBWYVJ",
        "outputId": "60802713-b3f7-4667-cbd2-464350f3ded1"
      },
      "execution_count": 119,
      "outputs": [
        {
          "output_type": "execute_result",
          "data": {
            "text/plain": [
              "Index(['Nationality', 'Positions', 'Name', 'Age', '↓OVA', 'POT',\n",
              "       'Team & Contract', 'ID', 'Height', 'Weight', 'foot', 'BOV', 'BP',\n",
              "       'Growth', 'Joined', 'Loan Date End', 'Value', 'Wage', 'Release Clause',\n",
              "       'Attacking', 'Crossing', 'Finishing', 'Heading Accuracy',\n",
              "       'Short Passing', 'Volleys', 'Skill', 'Dribbling', 'Curve',\n",
              "       'FK Accuracy', 'Long Passing', 'Ball Control', 'Movement',\n",
              "       'Acceleration', 'Sprint Speed', 'Agility', 'Reactions', 'Balance',\n",
              "       'Power', 'Shot Power', 'Jumping', 'Stamina', 'Strength', 'Long Shots',\n",
              "       'Mentality', 'Aggression', 'Interceptions', 'Positioning', 'Vision',\n",
              "       'Penalties', 'Composure', 'Defending', 'Marking', 'Standing Tackle',\n",
              "       'Sliding Tackle', 'Goalkeeping', 'GK Diving', 'GK Handling',\n",
              "       'GK Kicking', 'GK Positioning', 'GK Reflexes', 'Total Stats',\n",
              "       'Base Stats', 'W/F', 'SM', 'A/W', 'D/W', 'IR', 'PAC', 'SHO', 'PAS',\n",
              "       'DRI', 'DEF', 'PHY', 'Hits'],\n",
              "      dtype='object')"
            ]
          },
          "metadata": {},
          "execution_count": 119
        }
      ]
    },
    {
      "cell_type": "markdown",
      "source": [
        "##Conver all columns to low letters"
      ],
      "metadata": {
        "id": "qhHS5oqgC8IP"
      }
    },
    {
      "cell_type": "code",
      "source": [
        "\n",
        "cols = list(fifa_df.columns)\n",
        "\n",
        "fifa_df.columns =[x.strip().lower() for x in cols]"
      ],
      "metadata": {
        "id": "Ctix1tkXWqpf"
      },
      "execution_count": 120,
      "outputs": []
    },
    {
      "cell_type": "markdown",
      "source": [
        "##split team and contract"
      ],
      "metadata": {
        "id": "_6mWsLdBDIIQ"
      }
    },
    {
      "cell_type": "code",
      "source": [
        "\n",
        "def split_team_contract(col=None):\n",
        "  col=col.str.replace(r'^[\\n]{4}','')\n",
        "  col=col.str.replace(r'[\\n]{2}','')\n",
        "  fifa_df[['team','contract']]=col.str.split('\\n',1,expand=True)\n",
        "  return col\n",
        "  \n",
        "fifa_df['team & contract']=split_team_contract(col=fifa_df['team & contract'])\n",
        "\n",
        "#Drop column 'team & contract'\n",
        "fifa_df =  fifa_df.drop(columns=['team & contract'])"
      ],
      "metadata": {
        "colab": {
          "base_uri": "https://localhost:8080/"
        },
        "id": "sedvVL5SUQ38",
        "outputId": "365c1ee9-a75e-4eeb-dcb8-815c4275e667"
      },
      "execution_count": 121,
      "outputs": [
        {
          "output_type": "stream",
          "name": "stderr",
          "text": [
            "<ipython-input-121-ee3103ce4d3b>:2: FutureWarning: The default value of regex will change from True to False in a future version.\n",
            "  col=col.str.replace(r'^[\\n]{4}','')\n",
            "<ipython-input-121-ee3103ce4d3b>:3: FutureWarning: The default value of regex will change from True to False in a future version.\n",
            "  col=col.str.replace(r'[\\n]{2}','')\n",
            "<ipython-input-121-ee3103ce4d3b>:4: FutureWarning: In a future version of pandas all arguments of StringMethods.split except for the argument 'pat' will be keyword-only.\n",
            "  fifa_df[['team','contract']]=col.str.split('\\n',1,expand=True)\n"
          ]
        }
      ]
    },
    {
      "cell_type": "markdown",
      "source": [
        "##Convet heights to centimeters"
      ],
      "metadata": {
        "id": "jEf69uSQDVip"
      }
    },
    {
      "cell_type": "code",
      "source": [
        "\n",
        "def height_to_cm(col=None):\n",
        "  col=col.str.replace(\"'\",\".\").str.replace('\"','')\n",
        "  col=col.apply(lambda x: float(x))\n",
        "  col=col.apply(lambda x: int(x)*float(30.48)+(x-int(x))*float(2.54))\n",
        "  return col\n",
        "\n",
        "fifa_df['height']=height_to_cm(col=fifa_df['height'])\n",
        "#rename height column\n",
        "fifa_df=fifa_df.rename(columns={'height':'height_cm'})"
      ],
      "metadata": {
        "id": "6xotlsV8xHT5"
      },
      "execution_count": 122,
      "outputs": []
    },
    {
      "cell_type": "markdown",
      "source": [
        "##convert weights to Kilograms"
      ],
      "metadata": {
        "id": "YxsJhc2rDYPQ"
      }
    },
    {
      "cell_type": "code",
      "source": [
        "\n",
        "fifa_df['weight']=fifa_df['weight'].apply(lambda x:re.sub(r'[lbs]','',x))\n",
        "fifa_df['weight']=fifa_df['weight'].apply(lambda x: round(float(x)/float(2.205),2) )"
      ],
      "metadata": {
        "id": "1iEJkewN1S-W"
      },
      "execution_count": 123,
      "outputs": []
    },
    {
      "cell_type": "markdown",
      "source": [
        "## Preprocess 'value', 'wage', 'release clause' columns"
      ],
      "metadata": {
        "id": "I3k9mUHkLTW0"
      }
    },
    {
      "cell_type": "code",
      "source": [
        "def clean_col(value):\n",
        "  value=value.lstrip('€') #remove '€' mark\n",
        "  suffix=value[-1]\n",
        "  if suffix=='M':\n",
        "    return float(value[:-1])*1e6\n",
        "  elif suffix=='K':\n",
        "    return float(value[:-1])*1e3\n",
        "  else:\n",
        "    return float(value)\n"
      ],
      "metadata": {
        "id": "KTFMeNb40oZy"
      },
      "execution_count": 124,
      "outputs": []
    },
    {
      "cell_type": "code",
      "source": [
        "#convert 'value' \n",
        "\n",
        "fifa_df['value']=fifa_df['value'].apply(clean_col)\n",
        "\n",
        "#convert 'wage'\n",
        "\n",
        "fifa_df['wage']=fifa_df['wage'].apply(clean_col)\n",
        "\n",
        "#convert 'release clause'\n",
        "\n",
        "fifa_df['release clause']=fifa_df['release clause'].apply(clean_col)\n"
      ],
      "metadata": {
        "id": "CweyoKnbPHHv"
      },
      "execution_count": 125,
      "outputs": []
    },
    {
      "cell_type": "markdown",
      "source": [
        "##preprocess date columns"
      ],
      "metadata": {
        "id": "DypROISpCxTo"
      }
    },
    {
      "cell_type": "code",
      "source": [
        "#preprocess date columns\n",
        "fifa_df['joined'] = pd.to_datetime(fifa_df['joined'],format='%b %d, %Y')\n",
        "fifa_df['loan date end']= pd.to_datetime(fifa_df['loan date end'],format='%b %d, %Y')"
      ],
      "metadata": {
        "id": "JOe5k2bf44pi"
      },
      "execution_count": 126,
      "outputs": []
    },
    {
      "cell_type": "markdown",
      "source": [
        "##preprocess 'w/f', 'sm','ir' columns"
      ],
      "metadata": {
        "id": "RvjRocSHD2VA"
      }
    },
    {
      "cell_type": "code",
      "source": [
        "def star_remover(value):\n",
        "  value=value.rstrip('★')\n",
        "  return int(value)"
      ],
      "metadata": {
        "id": "LpGfB6soEO1G"
      },
      "execution_count": 127,
      "outputs": []
    },
    {
      "cell_type": "code",
      "source": [
        "# 'w/f' column\n",
        "\n",
        "fifa_df['w/f']=fifa_df['w/f'].apply(star_remover)\n",
        "\n",
        "# 'sm' column\n",
        "\n",
        "fifa_df['sm']=fifa_df['sm'].apply(star_remover)\n",
        "\n",
        "# 'ir' column\n",
        "\n",
        "fifa_df['ir']=fifa_df['ir'].apply(star_remover)"
      ],
      "metadata": {
        "id": "w1tSdUyQFEFi"
      },
      "execution_count": 101,
      "outputs": []
    },
    {
      "cell_type": "markdown",
      "source": [
        "##preprocess hit column"
      ],
      "metadata": {
        "id": "wIzP4D8VHGHb"
      }
    },
    {
      "cell_type": "code",
      "source": [
        "\n",
        "def convert_value(value):\n",
        "\n",
        "  if isinstance(value,str):\n",
        "    value=value.strip()\n",
        "    if value.endswith('K'):\n",
        "      return float(value[:-1])*1e3\n",
        "    else:\n",
        "      return float(value)\n",
        "  else:\n",
        "    return float(value)\n",
        "  \n"
      ],
      "metadata": {
        "id": "9IKJmCZoP0Th"
      },
      "execution_count": 137,
      "outputs": []
    },
    {
      "cell_type": "code",
      "source": [
        "# 'hits' column\n",
        "fifa_df['hits']= fifa_df['hits'].apply(convert_value)"
      ],
      "metadata": {
        "id": "BMocMsDDW5zq"
      },
      "execution_count": 143,
      "outputs": []
    },
    {
      "cell_type": "code",
      "source": [
        "fifa_df.info()"
      ],
      "metadata": {
        "colab": {
          "base_uri": "https://localhost:8080/"
        },
        "id": "vR5hveMsVGAU",
        "outputId": "a441810a-5344-485e-935e-20299c065f8f"
      },
      "execution_count": 146,
      "outputs": [
        {
          "output_type": "stream",
          "name": "stdout",
          "text": [
            "<class 'pandas.core.frame.DataFrame'>\n",
            "RangeIndex: 18979 entries, 0 to 18978\n",
            "Data columns (total 75 columns):\n",
            " #   Column            Non-Null Count  Dtype         \n",
            "---  ------            --------------  -----         \n",
            " 0   nationality       18979 non-null  object        \n",
            " 1   positions         18979 non-null  object        \n",
            " 2   name              18979 non-null  object        \n",
            " 3   age               18979 non-null  int64         \n",
            " 4   ↓ova              18979 non-null  int64         \n",
            " 5   pot               18979 non-null  int64         \n",
            " 6   id                18979 non-null  int64         \n",
            " 7   height_cm         18979 non-null  float64       \n",
            " 8   weight            18979 non-null  float64       \n",
            " 9   foot              18979 non-null  object        \n",
            " 10  bov               18979 non-null  int64         \n",
            " 11  bp                18979 non-null  object        \n",
            " 12  growth            18979 non-null  int64         \n",
            " 13  joined            18979 non-null  datetime64[ns]\n",
            " 14  loan date end     1013 non-null   datetime64[ns]\n",
            " 15  value             18979 non-null  float64       \n",
            " 16  wage              18979 non-null  float64       \n",
            " 17  release clause    18979 non-null  float64       \n",
            " 18  attacking         18979 non-null  int64         \n",
            " 19  crossing          18979 non-null  int64         \n",
            " 20  finishing         18979 non-null  int64         \n",
            " 21  heading accuracy  18979 non-null  int64         \n",
            " 22  short passing     18979 non-null  int64         \n",
            " 23  volleys           18979 non-null  int64         \n",
            " 24  skill             18979 non-null  int64         \n",
            " 25  dribbling         18979 non-null  int64         \n",
            " 26  curve             18979 non-null  int64         \n",
            " 27  fk accuracy       18979 non-null  int64         \n",
            " 28  long passing      18979 non-null  int64         \n",
            " 29  ball control      18979 non-null  int64         \n",
            " 30  movement          18979 non-null  int64         \n",
            " 31  acceleration      18979 non-null  int64         \n",
            " 32  sprint speed      18979 non-null  int64         \n",
            " 33  agility           18979 non-null  int64         \n",
            " 34  reactions         18979 non-null  int64         \n",
            " 35  balance           18979 non-null  int64         \n",
            " 36  power             18979 non-null  int64         \n",
            " 37  shot power        18979 non-null  int64         \n",
            " 38  jumping           18979 non-null  int64         \n",
            " 39  stamina           18979 non-null  int64         \n",
            " 40  strength          18979 non-null  int64         \n",
            " 41  long shots        18979 non-null  int64         \n",
            " 42  mentality         18979 non-null  int64         \n",
            " 43  aggression        18979 non-null  int64         \n",
            " 44  interceptions     18979 non-null  int64         \n",
            " 45  positioning       18979 non-null  int64         \n",
            " 46  vision            18979 non-null  int64         \n",
            " 47  penalties         18979 non-null  int64         \n",
            " 48  composure         18979 non-null  int64         \n",
            " 49  defending         18979 non-null  int64         \n",
            " 50  marking           18979 non-null  int64         \n",
            " 51  standing tackle   18979 non-null  int64         \n",
            " 52  sliding tackle    18979 non-null  int64         \n",
            " 53  goalkeeping       18979 non-null  int64         \n",
            " 54  gk diving         18979 non-null  int64         \n",
            " 55  gk handling       18979 non-null  int64         \n",
            " 56  gk kicking        18979 non-null  int64         \n",
            " 57  gk positioning    18979 non-null  int64         \n",
            " 58  gk reflexes       18979 non-null  int64         \n",
            " 59  total stats       18979 non-null  int64         \n",
            " 60  base stats        18979 non-null  int64         \n",
            " 61  w/f               18979 non-null  object        \n",
            " 62  sm                18979 non-null  object        \n",
            " 63  a/w               18979 non-null  object        \n",
            " 64  d/w               18979 non-null  object        \n",
            " 65  ir                18979 non-null  object        \n",
            " 66  pac               18979 non-null  int64         \n",
            " 67  sho               18979 non-null  int64         \n",
            " 68  pas               18979 non-null  int64         \n",
            " 69  dri               18979 non-null  int64         \n",
            " 70  def               18979 non-null  int64         \n",
            " 71  phy               18979 non-null  int64         \n",
            " 72  hits              18979 non-null  float64       \n",
            " 73  team              18979 non-null  object        \n",
            " 74  contract          18979 non-null  object        \n",
            "dtypes: datetime64[ns](2), float64(6), int64(55), object(12)\n",
            "memory usage: 10.9+ MB\n"
          ]
        }
      ]
    }
  ]
}